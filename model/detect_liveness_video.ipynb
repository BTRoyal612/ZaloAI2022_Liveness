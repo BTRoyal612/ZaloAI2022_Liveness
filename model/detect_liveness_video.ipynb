{
 "cells": [
  {
   "cell_type": "code",
   "execution_count": 1,
   "metadata": {},
   "outputs": [],
   "source": [
    "from tensorflow.keras.applications.mobilenet_v2 import preprocess_input\n",
    "from tensorflow.keras.preprocessing.image import img_to_array\n",
    "from tensorflow.keras.models import load_model\n",
    "from imutils.video import FileVideoStream\n",
    "import numpy as np\n",
    "import imutils\n",
    "import pickle\n",
    "import cv2\n",
    "import os\n",
    "import csv\n",
    "import pandas as pd"
   ]
  },
  {
   "cell_type": "code",
   "execution_count": 2,
   "metadata": {},
   "outputs": [],
   "source": [
    "# def detect_and_predict_mask(frame, faceNet, maskNet):\n",
    "def detect_liveness(frame, faceNet, livenessNet):\n",
    "\t# grab the dimensions of the frame and then construct a blob\n",
    "\t# from it\n",
    "\t(h, w) = frame.shape[:2]\n",
    "\tblob = cv2.dnn.blobFromImage(frame, 1.0, (300, 300),\n",
    "\t\t(104.0, 177.0, 123.0))\n",
    "\n",
    "\t# pass the blob through the network and obtain the face detections\n",
    "\tfaceNet.setInput(blob)\n",
    "\tdetections = faceNet.forward()\n",
    "\n",
    "\t# initialize our list of faces, their corresponding locations,\n",
    "\t# and the list of predictions from our face mask network\n",
    "\tfaces = []\n",
    "\tlocs = []\n",
    "\tpreds = []\n",
    "\n",
    "\t# loop over the detections\n",
    "\tfor i in range(0, detections.shape[2]):\n",
    "\t\t# extract the confidence (i.e., probability) associated with\n",
    "\t\t# the detection\n",
    "\t\tconfidence = detections[0, 0, i, 2]\n",
    "\n",
    "\t\t# filter out weak detections by ensuring the confidence is\n",
    "\t\t# greater than the minimum confidence\n",
    "\t\tif confidence > 0.5:\n",
    "\t\t\t# compute the (x, y)-coordinates of the bounding box for\n",
    "\t\t\t# the object\n",
    "\t\t\tbox = detections[0, 0, i, 3:7] * np.array([w, h, w, h])\n",
    "\t\t\t(startX, startY, endX, endY) = box.astype(\"int\")\n",
    "\n",
    "\t\t\t# ensure the bounding boxes fall within the dimensions of\n",
    "\t\t\t# the frame\n",
    "\t\t\t(startX, startY) = (max(0, startX), max(0, startY))\n",
    "\t\t\t(endX, endY) = (min(w - 1, endX), min(h - 1, endY))\n",
    "\n",
    "\t\t\t# extract the face ROI, convert it from BGR to RGB channel\n",
    "\t\t\t# ordering, resize it to 224x224, and preprocess it\n",
    "\t\t\tface = frame[startY:endY, startX:endX]\n",
    "\t\t\tif face.any():\n",
    "\t\t\t\t# face = cv2.cvtColor(face, cv2.COLOR_BGR2RGB)\n",
    "\t\t\t\tface = cv2.resize(face, (32, 32))\n",
    "\t\t\t\t# face = img_to_array(face)\n",
    "\t\t\t\t# face = preprocess_input(face)\n",
    "\n",
    "\t\t\t\t# add the face and bounding boxes to their respective\n",
    "\t\t\t\t# lists\n",
    "\t\t\t\tfaces.append(face)\n",
    "\t\t\t\tlocs.append((startX, startY, endX, endY))\n",
    "\n",
    "\t# only make a predictions if at least one face was detected\n",
    "\tif len(faces) > 0:\n",
    "\t\t# label = le.classes_[j]\n",
    "\t\t# for faster inference we'll make batch predictions on *all*\n",
    "\t\t# faces at the same time rather than one-by-one predictions\n",
    "\t\t# in the above `for` loop\n",
    "\t\tfaces = np.array(faces, dtype=\"float\") / 255.0\n",
    "\t\tpreds = livenessNet.predict(faces, batch_size=32)\n",
    "\n",
    "\t# return a 2-tuple of the face locations and their corresponding\n",
    "\t# locations\n",
    "\treturn (locs, preds)"
   ]
  },
  {
   "cell_type": "code",
   "execution_count": 3,
   "metadata": {},
   "outputs": [
    {
     "name": "stdout",
     "output_type": "stream",
     "text": [
      "[INFO] loading face detector model...\n"
     ]
    }
   ],
   "source": [
    "# load our serialized face detector model from disk\n",
    "print(\"[INFO] loading face detector model...\")\n",
    "face = \"D:/ZaloAI/LIVENESS/model/face_detection\"\n",
    "prototxtPath =  os.path.sep.join([face, \"deploy.prototxt\"])\n",
    "weightsPath = os.path.sep.join([face,\n",
    "\t\"res10_300x300_ssd_iter_140000.caffemodel\"])\n",
    "faceNet = cv2.dnn.readNet(prototxtPath, weightsPath)"
   ]
  },
  {
   "cell_type": "code",
   "execution_count": 4,
   "metadata": {},
   "outputs": [
    {
     "name": "stdout",
     "output_type": "stream",
     "text": [
      "loading the liveness detector\n",
      "['fake' 'real']\n"
     ]
    }
   ],
   "source": [
    "# loading the liveness detecting module that was trained in the training python script\n",
    "model_path = \"liveness.model\"\n",
    "le_path = \"le.pickle\"\n",
    "print(\"loading the liveness detector\")\n",
    "livenessNet = load_model(model_path)\n",
    "le = pickle.loads(open(le_path, \"rb\").read())\n",
    "print(le.classes_)"
   ]
  },
  {
   "cell_type": "code",
   "execution_count": 6,
   "metadata": {},
   "outputs": [],
   "source": [
    "source = r'D:/ZaloAI/LIVENESS/public_test/public/videos'\n",
    "data = [] \n",
    "for filename in os.scandir(source):\n",
    "\tname = filename.name\n",
    "\tscore = 0\n",
    "\tcount = 0\n",
    "\tmin_score = 1.0\n",
    "\tmax_score = 0.0\n",
    "\n",
    "\t# initialize the video stream and allow the camera sensor to warm up\n",
    "\tvs = FileVideoStream(filename.path).start()\n",
    "\n",
    "\t# loop over the frames from the video stream\n",
    "\twhile True:\n",
    "\t\t# grab the frame from the threaded video stream and resize it\n",
    "\t\t# to have a maximum width of 400 pixels\n",
    "\t\tframe = vs.read()\n",
    "\t\tif not vs.more():\n",
    "\t\t\tbreak\n",
    "\t\tframe = imutils.resize(frame, width=400)\n",
    "\n",
    "\t\t# detect faces in the frame and determine if they are wearing a\n",
    "\t\t# face mask or not\n",
    "\t\t(locs, preds) = detect_liveness(frame, faceNet, livenessNet)\n",
    "\t\tif len(locs) < 1: \n",
    "\t\t\tcontinue\n",
    "\t\tloc = locs[0]\n",
    "\t\tpred = preds[0]\n",
    "\t\t\n",
    "\t\t# loop over the detected face locations and their corresponding\n",
    "\t\t# locations\n",
    "\t\t# for i in range(len(locs)):\n",
    "\t\t# unpack the bounding box and predictions\n",
    "\t\t(startX, startY, endX, endY) = loc\n",
    "\t\t(fake, real) = pred\n",
    "\t\tscore += real\n",
    "\t\tcount += 1\n",
    "\t\tmin_score\n",
    "\n",
    "\t\t# determine the class label and color we'll use to draw\n",
    "\t\t# the bounding box and text\n",
    "\t\t\t\n",
    "\t\t# # include the probability in the label\n",
    "\t\t# label = \"Liveness\"\n",
    "\t\t# label = \"{}: {:.2f}%\".format(label, real * 100)\n",
    "\t\t# color = (0, 255, 0)\n",
    "\n",
    "\t\t# # display the label and bounding box rectangle on the output\n",
    "\t\t# # frame\n",
    "\t\t# cv2.putText(frame, label, (startX, startY - 10),\n",
    "\t\t# \tcv2.FONT_HERSHEY_SIMPLEX, 0.45, color, 2)\n",
    "\t\t# cv2.rectangle(frame, (startX, startY), (endX, endY), color, 2)\n",
    "\n",
    "\t\t# # show the output frame\n",
    "\t\t# cv2.imshow(\"Frame\", frame)\n",
    "\t\t# key = cv2.waitKey(1) & 0xFF\n",
    "\n",
    "\t\t# # if the `q` key was pressed, break from the loop\n",
    "\t\t# if key == ord(\"q\"):\n",
    "\t\t# \tbreak\n",
    "\t\n",
    "\tif count == 0:\n",
    "\t\tcount = 1\n",
    "\tscore /= count\n",
    "\tdata.append([name, score])\n",
    "\t\n",
    "\t# do a bit of cleanup\n",
    "\t# cv2.destroyAllWindows()\n",
    "\tvs.stop()"
   ]
  },
  {
   "cell_type": "code",
   "execution_count": 8,
   "metadata": {},
   "outputs": [],
   "source": [
    "header = ['fname', 'liveness_score']\n",
    "data = pd.DataFrame(data, columns = header)\n",
    "data.to_csv('Predict.csv', index=False)"
   ]
  }
 ],
 "metadata": {
  "kernelspec": {
   "display_name": "Python 3.9.13 ('base')",
   "language": "python",
   "name": "python3"
  },
  "language_info": {
   "codemirror_mode": {
    "name": "ipython",
    "version": 3
   },
   "file_extension": ".py",
   "mimetype": "text/x-python",
   "name": "python",
   "nbconvert_exporter": "python",
   "pygments_lexer": "ipython3",
   "version": "3.9.13"
  },
  "orig_nbformat": 4,
  "vscode": {
   "interpreter": {
    "hash": "e009fd7a26827f4dfa9c6b7ca52e408c871ec95e1f37a45a7163d8a15e724551"
   }
  }
 },
 "nbformat": 4,
 "nbformat_minor": 2
}
