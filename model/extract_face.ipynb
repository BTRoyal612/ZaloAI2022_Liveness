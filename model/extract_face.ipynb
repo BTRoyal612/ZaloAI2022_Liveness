{
 "cells": [
  {
   "cell_type": "code",
   "execution_count": 1,
   "metadata": {},
   "outputs": [],
   "source": [
    "from tensorflow.keras.applications.mobilenet_v2 import preprocess_input\n",
    "from tensorflow.keras.preprocessing.image import img_to_array\n",
    "import numpy as np\n",
    "import imutils\n",
    "import cv2\n",
    "import os"
   ]
  },
  {
   "cell_type": "code",
   "execution_count": 2,
   "metadata": {},
   "outputs": [
    {
     "name": "stdout",
     "output_type": "stream",
     "text": [
      "[INFO] loading face detector model...\n"
     ]
    }
   ],
   "source": [
    "# load our serialized face detector model from disk\n",
    "print(\"[INFO] loading face detector model...\")\n",
    "face = \"D:/ZaloAI/LIVENESS/model/face_detection\"\n",
    "prototxtPath =  os.path.sep.join([face, \"deploy.prototxt\"])\n",
    "weightsPath = os.path.sep.join([face,\n",
    "\t\"res10_300x300_ssd_iter_140000.caffemodel\"])\n",
    "faceNet = cv2.dnn.readNet(prototxtPath, weightsPath)"
   ]
  },
  {
   "cell_type": "code",
   "execution_count": 8,
   "metadata": {},
   "outputs": [],
   "source": [
    "# def detect_and_predict_mask(frame, faceNet, maskNet):\n",
    "def get_face(frame, faceNet):\n",
    "\t# grab the dimensions of the frame and then construct a blob\n",
    "\t# from it\n",
    "\t(h, w) = frame.shape[:2]\n",
    "\tblob = cv2.dnn.blobFromImage(frame, 1.0, (300, 300),\n",
    "\t\t(104.0, 177.0, 123.0))\n",
    "\n",
    "\t# pass the blob through the network and obtain the face detections\n",
    "\tfaceNet.setInput(blob)\n",
    "\tdetections = faceNet.forward()\n",
    "\n",
    "\t# initialize our list of faces, their corresponding locations,\n",
    "\t# and the list of predictions from our face mask network\n",
    "\tfaces = []\n",
    "\n",
    "\t# loop over the detections\n",
    "\tfor i in range(0, detections.shape[2]):\n",
    "\t\t# extract the confidence (i.e., probability) associated with\n",
    "\t\t# the detection\n",
    "\t\tconfidence = detections[0, 0, i, 2]\n",
    "\n",
    "\t\t# filter out weak detections by ensuring the confidence is\n",
    "\t\t# greater than the minimum confidence\n",
    "\t\tif confidence > 0.5:\n",
    "\t\t\t# compute the (x, y)-coordinates of the bounding box for\n",
    "\t\t\t# the object\n",
    "\t\t\tbox = detections[0, 0, i, 3:7] * np.array([w, h, w, h])\n",
    "\t\t\t(startX, startY, endX, endY) = box.astype(\"int\")\n",
    "\n",
    "\t\t\t# ensure the bounding boxes fall within the dimensions of\n",
    "\t\t\t# the frame\n",
    "\t\t\t(startX, startY) = (max(0, startX), max(0, startY))\n",
    "\t\t\t(endX, endY) = (min(w - 1, endX), min(h - 1, endY))\n",
    "\n",
    "\t\t\t# extract the face ROI, convert it from BGR to RGB channel\n",
    "\t\t\t# ordering, resize it to 224x224, and preprocess it\n",
    "\t\t\tface = frame[startY:endY, startX:endX]\n",
    "\t\t\tif face.any():\n",
    "\t\t\t\t# face = cv2.cvtColor(face, cv2.COLOR_BGR2RGB)\n",
    "\t\t\t\tface = cv2.resize(face, (32, 32))\n",
    "\n",
    "\t\t\t\t# add the face and bounding boxes to their respective\n",
    "\t\t\t\t# lists\n",
    "\t\t\t\tfaces.append(face)\n",
    "\n",
    "\treturn faces"
   ]
  },
  {
   "cell_type": "code",
   "execution_count": 4,
   "metadata": {},
   "outputs": [],
   "source": [
    "def save_image(image,addr,num):\n",
    "    address = addr + str(num)+ '.jpg'\n",
    "    cv2.imwrite(address,image)"
   ]
  },
  {
   "cell_type": "code",
   "execution_count": 11,
   "metadata": {},
   "outputs": [],
   "source": [
    "source = \"D:/ZaloAI/LIVENESS/dataset/fake_vids\"\n",
    "destination = \"D:/ZaloAI/LIVENESS/dataset/fake_img\""
   ]
  },
  {
   "cell_type": "code",
   "execution_count": 12,
   "metadata": {},
   "outputs": [],
   "source": [
    "for filename in os.scandir(source):\n",
    "    i, f_count = (0, 0)\n",
    "    name = filename.name.split(\".\")[0]\n",
    "    cap = cv2.VideoCapture(filename.path)\n",
    "    fps = int(cap.get(cv2.CAP_PROP_FPS))\n",
    "    # loop over the frames from the video stream\n",
    "    while True:\n",
    "        ret, frame = cap.read()\n",
    "        \n",
    "        if not ret:\n",
    "            break\n",
    "        \n",
    "        f_count += 1\n",
    "        if f_count % fps != 0:\n",
    "            continue\n",
    "        \n",
    "        # grab the frame from the threaded video stream and resize it\n",
    "        # to have a maximum width of 400 pixels\n",
    "        i += 1\n",
    "        frame = imutils.resize(frame, width=400)\n",
    "\n",
    "        # detect faces in the frame and determine if they are wearing a\n",
    "        # face mask or not\n",
    "        faces = get_face(frame, faceNet)\n",
    "        for face in faces:\n",
    "            save_image(face, (destination + '/' + name + '_'), i)\n",
    "        \n",
    "        # key = cv2.waitKey(1) & 0xFF\n",
    "\n",
    "        # if the `q` key was pressed, break from the loop\n",
    "        # if key == ord(\"q\"):\n",
    "            # break\n",
    "\n",
    "    # do a bit of cleanup\n",
    "    cap.release()\n",
    "    cv2.destroyAllWindows()"
   ]
  }
 ],
 "metadata": {
  "kernelspec": {
   "display_name": "Python 3.9.13 ('base')",
   "language": "python",
   "name": "python3"
  },
  "language_info": {
   "codemirror_mode": {
    "name": "ipython",
    "version": 3
   },
   "file_extension": ".py",
   "mimetype": "text/x-python",
   "name": "python",
   "nbconvert_exporter": "python",
   "pygments_lexer": "ipython3",
   "version": "3.9.13"
  },
  "orig_nbformat": 4,
  "vscode": {
   "interpreter": {
    "hash": "e009fd7a26827f4dfa9c6b7ca52e408c871ec95e1f37a45a7163d8a15e724551"
   }
  }
 },
 "nbformat": 4,
 "nbformat_minor": 2
}
